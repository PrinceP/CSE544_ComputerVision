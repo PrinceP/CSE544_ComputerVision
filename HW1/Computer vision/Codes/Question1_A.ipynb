{
 "cells": [
  {
   "cell_type": "code",
   "execution_count": 1,
   "metadata": {
    "collapsed": true
   },
   "outputs": [],
   "source": [
    "import numpy as np\n",
    "import cv2\n",
    "import glob\n",
    "# Using opencv calibration toolbox\n",
    "\n",
    "criteria = (cv2.TERM_CRITERIA_EPS + cv2.TERM_CRITERIA_MAX_ITER, 30, 0.001)\n",
    "# termination criteria"
   ]
  },
  {
   "cell_type": "code",
   "execution_count": 2,
   "metadata": {
    "collapsed": true
   },
   "outputs": [],
   "source": [
    "objp = np.zeros((6*8,3), np.float32)\n",
    "objp[:,:2] = np.mgrid[0:6,0:8].T.reshape(-1,2)\n",
    "#Taking the values of object points (0,0,0),(0,0,1),(0,1,0).. \n",
    "\n",
    "\n",
    "objpoints = [] #3D points\n",
    "imgpoints = [] #2D points "
   ]
  },
  {
   "cell_type": "code",
   "execution_count": 3,
   "metadata": {
    "collapsed": true
   },
   "outputs": [],
   "source": [
    "images = glob.glob('Set1/*') #Location of images"
   ]
  },
  {
   "cell_type": "code",
   "execution_count": 4,
   "metadata": {
    "collapsed": false
   },
   "outputs": [
    {
     "name": "stdout",
     "output_type": "stream",
     "text": [
      "True Set1\\IMG_20170116_122701.jpg\n",
      "True Set1\\IMG_20170116_123038.jpg\n",
      "True Set1\\IMG_20170116_123042.jpg\n",
      "True Set1\\IMG_20170116_123046.jpg\n",
      "True Set1\\IMG_20170116_123050.jpg\n",
      "True Set1\\IMG_20170116_123056.jpg\n",
      "True Set1\\IMG_20170116_123114.jpg\n",
      "True Set1\\IMG_20170116_123139.jpg\n",
      "True Set1\\IMG_20170116_123156.jpg\n",
      "True Set1\\IMG_20170116_123201.jpg\n",
      "True Set1\\IMG_20170116_123217.jpg\n",
      "True Set1\\IMG_20170116_123222.jpg\n",
      "True Set1\\IMG_20170116_123249.jpg\n",
      "True Set1\\IMG_20170116_123318.jpg\n",
      "True Set1\\IMG_20170116_123325.jpg\n",
      "True Set1\\IMG_20170116_123356.jpg\n",
      "True Set1\\IMG_20170116_123401.jpg\n",
      "True Set1\\IMG_20170116_123411.jpg\n",
      "True Set1\\IMG_20170116_123458.jpg\n",
      "True Set1\\IMG_20170116_123532.jpg\n"
     ]
    }
   ],
   "source": [
    "for fname in images:\n",
    "    img = cv2.imread(fname)\n",
    "    gray = cv2.cvtColor(img, cv2.COLOR_BGR2GRAY)\n",
    "    gray = cv2.resize(gray,(480,360))\n",
    "    img = cv2.resize(img,(480,360))\n",
    "    # Find the chess board corners\n",
    "    ret, corners = cv2.findChessboardCorners(gray, (6,8), None)\n",
    "    # If found, add object points, image points (after refining them)\n",
    "    print str(ret)+\" \"+fname  \n",
    "    if ret == True:\n",
    "    \tcorners2=cv2.cornerSubPix(gray,corners, (11,11), (-1,-1), criteria)\n",
    "    \tobjpoints.append(objp)\n",
    "    \timgpoints.append(corners)\n",
    "    \tcv2.drawChessboardCorners(img, (6,8), corners2, ret)\n",
    "    \tcv2.imshow('img', img)\n",
    "    \tcv2.waitKey(500)\n",
    "cv2.destroyAllWindows()"
   ]
  },
  {
   "cell_type": "code",
   "execution_count": 5,
   "metadata": {
    "collapsed": false
   },
   "outputs": [],
   "source": [
    "#Finding out the parameters by calibrateCamera\n",
    "#Writing them in the files\n",
    "ret, mtx, dist, rvecs, tvecs = cv2.calibrateCamera(objpoints, imgpoints, gray.shape[::-1],None,None)\n",
    "datathings = (ret, mtx, dist, rvecs, tvecs)\n",
    "fieldnames = [\"ret\", \"mtx\", \"dist\", \"rvecs\", \"tvecs\"]\n",
    "for fieldname, data in zip(fieldnames, datathings):\n",
    "\t#print (fieldname + \": \")\n",
    "\t#print (data)\n",
    "\tif fieldname == \"mtx\":\n",
    "\t\twith open(\"Intrinsic_Parameters.txt\",\"w\") as file:\n",
    "\t\t\tfile.write(\"Camera Matrix = \"+str(data))\n",
    "\tif fieldname == \"dist\":\n",
    "\t\twith open(\"Distortion_Parameters.txt\",\"w\") as file:\n",
    "\t\t\tfile.write(\"Distortion Coefficients \"+str(data))\n",
    "\tif fieldname == \"rvecs\" :\n",
    "\t\twith open(\"Extrinsic_Parameters_Rvec.txt\",\"w\") as file:\n",
    "\t\t\tfile.write(fieldname +\" : \"+ str(data))\n",
    "\tif fieldname == \"tvecs\" :\n",
    "\t\twith open(\"Extrinsic_Parameters_Tvec.txt\",\"w\") as file:\n",
    "\t\t\tfile.write(fieldname +\" : \"+ str(data))"
   ]
  },
  {
   "cell_type": "code",
   "execution_count": null,
   "metadata": {
    "collapsed": true
   },
   "outputs": [],
   "source": []
  }
 ],
 "metadata": {
  "kernelspec": {
   "display_name": "Python [Root]",
   "language": "python",
   "name": "Python [Root]"
  },
  "language_info": {
   "codemirror_mode": {
    "name": "ipython",
    "version": 2
   },
   "file_extension": ".py",
   "mimetype": "text/x-python",
   "name": "python",
   "nbconvert_exporter": "python",
   "pygments_lexer": "ipython2",
   "version": "2.7.12"
  }
 },
 "nbformat": 4,
 "nbformat_minor": 0
}
